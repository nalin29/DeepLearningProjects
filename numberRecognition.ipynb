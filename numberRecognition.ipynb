{
 "cells": [
  {
   "cell_type": "code",
   "execution_count": 3,
   "metadata": {},
   "outputs": [],
   "source": [
    "import os\n",
    "import numpy as np\n",
    "import pandas as pd\n",
    "import tensorflow as tf\n",
    "import matplotlib.pyplot as plt\n",
    "from tensorflow import keras\n",
    "from tensorflow.keras import layers"
   ]
  },
  {
   "cell_type": "code",
   "execution_count": 4,
   "metadata": {},
   "outputs": [],
   "source": [
    "trainImages = open(os.getcwd() + '/data/MINST/train-images.idx3-ubyte', 'rb')\n",
    "trainLabels = open(os.getcwd() + '/data/MINST/train-labels.idx1-ubyte', 'rb')\n",
    "testImages = open(os.getcwd() + '/data/MINST/t10k-images.idx3-ubyte', 'rb')\n",
    "testLabels = open(os.getcwd() + '/data/MINST/t10k-labels.idx1-ubyte', 'rb')"
   ]
  },
  {
   "cell_type": "code",
   "execution_count": 5,
   "metadata": {
    "tags": []
   },
   "outputs": [],
   "source": [
    "assert(int.from_bytes(trainImages.read(4), \"big\") == 2051)\n",
    "assert(int.from_bytes(trainLabels.read(4), 'big') == 2049)\n",
    "assert(int.from_bytes(testImages.read(4), 'big') == 2051)\n",
    "assert(int.from_bytes(testLabels.read(4), 'big') == 2049)"
   ]
  },
  {
   "cell_type": "code",
   "execution_count": 6,
   "metadata": {},
   "outputs": [],
   "source": [
    "trainImagesNum = int.from_bytes(trainImages.read(4), 'big')\n",
    "trainLabelsNum = int.from_bytes(trainLabels.read(4), 'big')\n",
    "testLabelsNum = int.from_bytes(testLabels.read(4), 'big')\n",
    "testImagesNum = int.from_bytes(testImages.read(4), 'big')"
   ]
  },
  {
   "cell_type": "code",
   "execution_count": 7,
   "metadata": {},
   "outputs": [],
   "source": [
    "assert(trainImagesNum == trainLabelsNum)\n",
    "assert(testImagesNum == testLabelsNum)"
   ]
  },
  {
   "cell_type": "code",
   "execution_count": 8,
   "metadata": {},
   "outputs": [],
   "source": [
    "trainRows = int.from_bytes(trainImages.read(4), 'big')\n",
    "trainCols = int.from_bytes(trainImages.read(4), 'big')\n",
    "testRows = int.from_bytes(testImages.read(4), 'big')\n",
    "testCols = int.from_bytes(testImages.read(4), 'big')"
   ]
  },
  {
   "cell_type": "code",
   "execution_count": 9,
   "metadata": {},
   "outputs": [],
   "source": [
    "trainPixels = trainCols * trainRows\n",
    "testPixels = testCols * testRows"
   ]
  },
  {
   "cell_type": "code",
   "execution_count": 10,
   "metadata": {},
   "outputs": [],
   "source": [
    "trainX = np.zeros((trainImagesNum, trainPixels))\n",
    "trainY = np.zeros(trainLabelsNum)\n",
    "testX = np.zeros((testImagesNum, testPixels))\n",
    "testY = np.zeros((testLabelsNum))"
   ]
  },
  {
   "cell_type": "code",
   "execution_count": 11,
   "metadata": {},
   "outputs": [],
   "source": [
    "for i in range(trainImagesNum):\n",
    "    for j in range(trainPixels):\n",
    "        trainX[i,j] = float(int.from_bytes(trainImages.read(1), 'big'))\n",
    "    trainY[i] = int.from_bytes(trainLabels.read(1), 'big')"
   ]
  },
  {
   "cell_type": "code",
   "execution_count": 12,
   "metadata": {},
   "outputs": [],
   "source": [
    "for i in range(testImagesNum):\n",
    "    for j in range(testPixels):\n",
    "        testX[i,j] = float(int.from_bytes(testImages.read(1), 'big'))\n",
    "    testY[i] = int.from_bytes(testLabels.read(1), 'big')"
   ]
  },
  {
   "cell_type": "code",
   "execution_count": 13,
   "metadata": {},
   "outputs": [],
   "source": [
    "trainX = trainX/255\n",
    "testX = testX/255"
   ]
  },
  {
   "cell_type": "code",
   "execution_count": 14,
   "metadata": {},
   "outputs": [],
   "source": [
    "trainX = tf.convert_to_tensor(trainX)\n",
    "trainY = tf.keras.utils.to_categorical(trainY, num_classes=10)\n",
    "testX = tf.convert_to_tensor(testX)\n",
    "testY = tf.keras.utils.to_categorical(testY, num_classes=10)"
   ]
  },
  {
   "cell_type": "code",
   "execution_count": 15,
   "metadata": {},
   "outputs": [],
   "source": [
    "def simpleModel(input_shape):\n",
    "    XInput = tf.keras.Input(shape=input_shape)\n",
    "    X = tf.keras.layers.Dense(200, activation='relu', name='fc0')(XInput)\n",
    "    X = tf.keras.layers.Dropout(0.2)(X)\n",
    "    X = tf.keras.layers.Dense(200, activation='relu', name='fc1')(X)\n",
    "    X = tf.keras.layers.Dropout(0.2)(X)\n",
    "    X = tf.keras.layers.Dense(10,activation='softmax', name ='out')(X)\n",
    "    model = tf.keras.Model(inputs=XInput, outputs = X, name = 'SimpleModel')\n",
    "    return model"
   ]
  },
  {
   "cell_type": "code",
   "execution_count": 16,
   "metadata": {},
   "outputs": [],
   "source": [
    "model = simpleModel(trainX.shape[1:])\n",
    "model.compile(optimizer='adam', loss='binary_crossentropy', metrics='accuracy')"
   ]
  },
  {
   "cell_type": "code",
   "execution_count": 17,
   "metadata": {
    "tags": []
   },
   "outputs": [
    {
     "output_type": "stream",
     "name": "stdout",
     "text": "Epoch 1/50\n600/600 [==============================] - 1s 2ms/step - loss: 0.0531 - accuracy: 0.9042\nEpoch 2/50\n600/600 [==============================] - 1s 2ms/step - loss: 0.0244 - accuracy: 0.9578\nEpoch 3/50\n600/600 [==============================] - 1s 2ms/step - loss: 0.0185 - accuracy: 0.9686\nEpoch 4/50\n600/600 [==============================] - 1s 2ms/step - loss: 0.0149 - accuracy: 0.9743\nEpoch 5/50\n600/600 [==============================] - 1s 2ms/step - loss: 0.0128 - accuracy: 0.9779\nEpoch 6/50\n600/600 [==============================] - 1s 2ms/step - loss: 0.0109 - accuracy: 0.9807\nEpoch 7/50\n600/600 [==============================] - 1s 2ms/step - loss: 0.0098 - accuracy: 0.9834\nEpoch 8/50\n600/600 [==============================] - 1s 2ms/step - loss: 0.0090 - accuracy: 0.9852\nEpoch 9/50\n600/600 [==============================] - 1s 2ms/step - loss: 0.0082 - accuracy: 0.9859\nEpoch 10/50\n600/600 [==============================] - 1s 2ms/step - loss: 0.0076 - accuracy: 0.9865\nEpoch 11/50\n600/600 [==============================] - 1s 2ms/step - loss: 0.0072 - accuracy: 0.9877\nEpoch 12/50\n600/600 [==============================] - 1s 2ms/step - loss: 0.0064 - accuracy: 0.9892\nEpoch 13/50\n600/600 [==============================] - 1s 2ms/step - loss: 0.0062 - accuracy: 0.9890\nEpoch 14/50\n600/600 [==============================] - 1s 2ms/step - loss: 0.0057 - accuracy: 0.9901\nEpoch 15/50\n600/600 [==============================] - 1s 2ms/step - loss: 0.0055 - accuracy: 0.9902\nEpoch 16/50\n600/600 [==============================] - 1s 2ms/step - loss: 0.0052 - accuracy: 0.9909\nEpoch 17/50\n600/600 [==============================] - 1s 2ms/step - loss: 0.0049 - accuracy: 0.9914\nEpoch 18/50\n600/600 [==============================] - 1s 2ms/step - loss: 0.0048 - accuracy: 0.9915\nEpoch 19/50\n600/600 [==============================] - 1s 2ms/step - loss: 0.0044 - accuracy: 0.9921\nEpoch 20/50\n600/600 [==============================] - 1s 2ms/step - loss: 0.0046 - accuracy: 0.9916\nEpoch 21/50\n600/600 [==============================] - 1s 2ms/step - loss: 0.0046 - accuracy: 0.9919\nEpoch 22/50\n600/600 [==============================] - 1s 2ms/step - loss: 0.0038 - accuracy: 0.9934\nEpoch 23/50\n600/600 [==============================] - 1s 2ms/step - loss: 0.0037 - accuracy: 0.9936\nEpoch 24/50\n600/600 [==============================] - 1s 2ms/step - loss: 0.0038 - accuracy: 0.9933\nEpoch 25/50\n600/600 [==============================] - 1s 2ms/step - loss: 0.0041 - accuracy: 0.9929\nEpoch 26/50\n600/600 [==============================] - 1s 2ms/step - loss: 0.0037 - accuracy: 0.9938\nEpoch 27/50\n600/600 [==============================] - 1s 2ms/step - loss: 0.0039 - accuracy: 0.9933\nEpoch 28/50\n600/600 [==============================] - 1s 2ms/step - loss: 0.0035 - accuracy: 0.9940\nEpoch 29/50\n600/600 [==============================] - 1s 2ms/step - loss: 0.0037 - accuracy: 0.9934\nEpoch 30/50\n600/600 [==============================] - 1s 2ms/step - loss: 0.0033 - accuracy: 0.9944\nEpoch 31/50\n600/600 [==============================] - 1s 2ms/step - loss: 0.0035 - accuracy: 0.9941\nEpoch 32/50\n600/600 [==============================] - 1s 2ms/step - loss: 0.0032 - accuracy: 0.9948\nEpoch 33/50\n600/600 [==============================] - 1s 2ms/step - loss: 0.0033 - accuracy: 0.9944\nEpoch 34/50\n600/600 [==============================] - 1s 2ms/step - loss: 0.0032 - accuracy: 0.9945\nEpoch 35/50\n600/600 [==============================] - 1s 2ms/step - loss: 0.0029 - accuracy: 0.9948\nEpoch 36/50\n600/600 [==============================] - 1s 2ms/step - loss: 0.0029 - accuracy: 0.9948\nEpoch 37/50\n600/600 [==============================] - 1s 2ms/step - loss: 0.0030 - accuracy: 0.9948\nEpoch 38/50\n600/600 [==============================] - 1s 2ms/step - loss: 0.0027 - accuracy: 0.9954\nEpoch 39/50\n600/600 [==============================] - 1s 2ms/step - loss: 0.0031 - accuracy: 0.9951\nEpoch 40/50\n600/600 [==============================] - 1s 2ms/step - loss: 0.0028 - accuracy: 0.9954\nEpoch 41/50\n600/600 [==============================] - 1s 2ms/step - loss: 0.0029 - accuracy: 0.9951\nEpoch 42/50\n600/600 [==============================] - 1s 2ms/step - loss: 0.0028 - accuracy: 0.9950\nEpoch 43/50\n600/600 [==============================] - 1s 2ms/step - loss: 0.0029 - accuracy: 0.9952\nEpoch 44/50\n600/600 [==============================] - 1s 2ms/step - loss: 0.0027 - accuracy: 0.9956\nEpoch 45/50\n600/600 [==============================] - 1s 2ms/step - loss: 0.0027 - accuracy: 0.9952\nEpoch 46/50\n600/600 [==============================] - 1s 2ms/step - loss: 0.0029 - accuracy: 0.9953\nEpoch 47/50\n600/600 [==============================] - 1s 2ms/step - loss: 0.0024 - accuracy: 0.9964\nEpoch 48/50\n600/600 [==============================] - 1s 2ms/step - loss: 0.0027 - accuracy: 0.9955\nEpoch 49/50\n600/600 [==============================] - 1s 2ms/step - loss: 0.0020 - accuracy: 0.9966\nEpoch 50/50\n600/600 [==============================] - 1s 2ms/step - loss: 0.0027 - accuracy: 0.9955\n"
    }
   ],
   "source": [
    "preds = model.fit(x=trainX, y=trainY, batch_size= 100, epochs=50, verbose=1, sample_weight=None)"
   ]
  },
  {
   "cell_type": "code",
   "execution_count": 18,
   "metadata": {
    "tags": []
   },
   "outputs": [
    {
     "output_type": "stream",
     "name": "stdout",
     "text": "100/100 [==============================] - 0s 1ms/step - loss: 0.0154 - accuracy: 0.9832\n\nLoss = 0.015430285595357418\nTest Accuracy = 0.9832000136375427\n"
    }
   ],
   "source": [
    "preds = model.evaluate(testX, testY, batch_size=100, verbose=1, sample_weight=None)\n",
    "print()\n",
    "print (\"Loss = \" + str(preds[0]))\n",
    "print (\"Test Accuracy = \" + str(preds[1]))"
   ]
  },
  {
   "cell_type": "code",
   "execution_count": 19,
   "metadata": {},
   "outputs": [],
   "source": [
    "def convModel(input_shape):\n",
    "    XIn = tf.keras.Input(shape=input_shape)\n",
    "    X = tf.keras.layers.Convolution2D(5, 3, data_format='channels_last',input_shape=input_shape, padding='same', activation='relu')(XIn)\n",
    "    X = tf.keras.layers.MaxPool2D(pool_size=(2,2), strides=2)(X)\n",
    "    Y = tf.keras.layers.BatchNormalization()(X)\n",
    "    X = tf.keras.layers.Convolution2D(10, 3, padding='valid', activation='relu')(Y)\n",
    "    X = tf.keras.layers.MaxPool2D(pool_size=(2,2), strides=2)(X)\n",
    "    X = tf.keras.layers.BatchNormalization()(X)\n",
    "    Y = tf.keras.layers.Convolution2D(10, 2)(Y)\n",
    "    Y = tf.keras.layers.MaxPool2D(pool_size=(2,2))(Y)\n",
    "    X = tf.keras.layers.Flatten()(X)\n",
    "    X = tf.keras.layers.Dropout(0.2)(X)\n",
    "    X = tf.keras.layers.Dense(100, activation='relu')(X)\n",
    "    X = tf.keras.layers.Dense(10, activation='softmax')(X)\n",
    "    model = tf.keras.Model(inputs=XIn, outputs=X)\n",
    "    return model"
   ]
  },
  {
   "cell_type": "code",
   "execution_count": 20,
   "metadata": {},
   "outputs": [],
   "source": [
    "trainX = tf.reshape(trainX, shape=(trainX.shape[0], 28,28,1))\n",
    "testX = tf.reshape(testX, shape=(testX.shape[0], 28,28,1))"
   ]
  },
  {
   "cell_type": "code",
   "execution_count": 21,
   "metadata": {
    "tags": []
   },
   "outputs": [],
   "source": [
    "model2 = convModel(trainX.shape[1:])\n",
    "model2.compile(optimizer='adam', loss='categorical_crossentropy', metrics='accuracy')"
   ]
  },
  {
   "cell_type": "code",
   "execution_count": 22,
   "metadata": {
    "tags": []
   },
   "outputs": [
    {
     "output_type": "stream",
     "name": "stdout",
     "text": "Epoch 1/50\n600/600 [==============================] - 2s 3ms/step - loss: 0.2426 - accuracy: 0.9237\nEpoch 2/50\n600/600 [==============================] - 2s 3ms/step - loss: 0.0867 - accuracy: 0.9728\nEpoch 3/50\n600/600 [==============================] - 2s 3ms/step - loss: 0.0620 - accuracy: 0.9805\nEpoch 4/50\n600/600 [==============================] - 2s 3ms/step - loss: 0.0516 - accuracy: 0.9831\nEpoch 5/50\n600/600 [==============================] - 2s 3ms/step - loss: 0.0436 - accuracy: 0.9858\nEpoch 6/50\n600/600 [==============================] - 2s 3ms/step - loss: 0.0392 - accuracy: 0.9873\nEpoch 7/50\n600/600 [==============================] - 2s 3ms/step - loss: 0.0352 - accuracy: 0.9882\nEpoch 8/50\n600/600 [==============================] - 2s 3ms/step - loss: 0.0309 - accuracy: 0.9900\nEpoch 9/50\n600/600 [==============================] - 2s 3ms/step - loss: 0.0288 - accuracy: 0.9906\nEpoch 10/50\n600/600 [==============================] - 2s 3ms/step - loss: 0.0252 - accuracy: 0.9914\nEpoch 11/50\n600/600 [==============================] - 2s 3ms/step - loss: 0.0246 - accuracy: 0.9916\nEpoch 12/50\n600/600 [==============================] - 2s 3ms/step - loss: 0.0237 - accuracy: 0.9919\nEpoch 13/50\n600/600 [==============================] - 2s 3ms/step - loss: 0.0220 - accuracy: 0.9924\nEpoch 14/50\n600/600 [==============================] - 2s 3ms/step - loss: 0.0221 - accuracy: 0.9921\nEpoch 15/50\n600/600 [==============================] - 2s 3ms/step - loss: 0.0209 - accuracy: 0.9927\nEpoch 16/50\n600/600 [==============================] - 2s 3ms/step - loss: 0.0198 - accuracy: 0.9931\nEpoch 17/50\n600/600 [==============================] - 2s 3ms/step - loss: 0.0182 - accuracy: 0.9937\nEpoch 18/50\n600/600 [==============================] - 2s 3ms/step - loss: 0.0170 - accuracy: 0.9941\nEpoch 19/50\n600/600 [==============================] - 2s 3ms/step - loss: 0.0158 - accuracy: 0.9948\nEpoch 20/50\n600/600 [==============================] - 2s 3ms/step - loss: 0.0163 - accuracy: 0.9945\nEpoch 21/50\n600/600 [==============================] - 2s 3ms/step - loss: 0.0150 - accuracy: 0.9949\nEpoch 22/50\n600/600 [==============================] - 2s 3ms/step - loss: 0.0155 - accuracy: 0.9946\nEpoch 23/50\n600/600 [==============================] - 2s 3ms/step - loss: 0.0152 - accuracy: 0.9946\nEpoch 24/50\n600/600 [==============================] - 2s 3ms/step - loss: 0.0137 - accuracy: 0.9952\nEpoch 25/50\n600/600 [==============================] - 2s 3ms/step - loss: 0.0135 - accuracy: 0.9956\nEpoch 26/50\n600/600 [==============================] - 2s 3ms/step - loss: 0.0137 - accuracy: 0.9953\nEpoch 27/50\n600/600 [==============================] - 2s 3ms/step - loss: 0.0126 - accuracy: 0.9957\nEpoch 28/50\n600/600 [==============================] - 2s 3ms/step - loss: 0.0122 - accuracy: 0.9958\nEpoch 29/50\n600/600 [==============================] - 2s 3ms/step - loss: 0.0117 - accuracy: 0.9960\nEpoch 30/50\n600/600 [==============================] - 2s 3ms/step - loss: 0.0122 - accuracy: 0.9957\nEpoch 31/50\n600/600 [==============================] - 2s 3ms/step - loss: 0.0124 - accuracy: 0.9956\nEpoch 32/50\n600/600 [==============================] - 2s 3ms/step - loss: 0.0131 - accuracy: 0.9953\nEpoch 33/50\n600/600 [==============================] - 2s 3ms/step - loss: 0.0117 - accuracy: 0.9958\nEpoch 34/50\n600/600 [==============================] - 2s 3ms/step - loss: 0.0103 - accuracy: 0.9964\nEpoch 35/50\n600/600 [==============================] - 2s 3ms/step - loss: 0.0101 - accuracy: 0.9965\nEpoch 36/50\n600/600 [==============================] - 2s 3ms/step - loss: 0.0097 - accuracy: 0.9965\nEpoch 37/50\n600/600 [==============================] - 2s 3ms/step - loss: 0.0103 - accuracy: 0.9966\nEpoch 38/50\n600/600 [==============================] - 2s 3ms/step - loss: 0.0097 - accuracy: 0.9967\nEpoch 39/50\n600/600 [==============================] - 2s 3ms/step - loss: 0.0104 - accuracy: 0.9963\nEpoch 40/50\n600/600 [==============================] - 2s 3ms/step - loss: 0.0113 - accuracy: 0.9961\nEpoch 41/50\n600/600 [==============================] - 2s 3ms/step - loss: 0.0106 - accuracy: 0.9962\nEpoch 42/50\n600/600 [==============================] - 2s 3ms/step - loss: 0.0097 - accuracy: 0.9966\nEpoch 43/50\n600/600 [==============================] - 2s 3ms/step - loss: 0.0091 - accuracy: 0.9966\nEpoch 44/50\n600/600 [==============================] - 2s 3ms/step - loss: 0.0096 - accuracy: 0.9966\nEpoch 45/50\n600/600 [==============================] - 2s 3ms/step - loss: 0.0087 - accuracy: 0.9969\nEpoch 46/50\n600/600 [==============================] - 2s 3ms/step - loss: 0.0102 - accuracy: 0.9964\nEpoch 47/50\n600/600 [==============================] - 2s 3ms/step - loss: 0.0085 - accuracy: 0.9969\nEpoch 48/50\n600/600 [==============================] - 2s 3ms/step - loss: 0.0081 - accuracy: 0.9970\nEpoch 49/50\n600/600 [==============================] - 2s 3ms/step - loss: 0.0099 - accuracy: 0.9967\nEpoch 50/50\n600/600 [==============================] - 2s 3ms/step - loss: 0.0094 - accuracy: 0.9965\n"
    },
    {
     "output_type": "execute_result",
     "data": {
      "text/plain": "<tensorflow.python.keras.callbacks.History at 0x7fe0b18542e0>"
     },
     "metadata": {},
     "execution_count": 22
    }
   ],
   "source": [
    "model2.fit(x=trainX, y=trainY, batch_size= 100, epochs=50, verbose=1, sample_weight=None)"
   ]
  },
  {
   "cell_type": "code",
   "execution_count": 32,
   "metadata": {
    "tags": []
   },
   "outputs": [
    {
     "output_type": "stream",
     "name": "stdout",
     "text": "100/100 [==============================] - 0s 2ms/step - loss: 0.0418 - accuracy: 0.9904\n\nLoss = 0.04175882413983345\nTest Accuracy = 0.9904000163078308\n"
    }
   ],
   "source": [
    "predictions = model2.evaluate(testX, testY, batch_size=100, verbose=1, sample_weight=None)\n",
    "print()\n",
    "print (\"Loss = \" + str(preds[0]))\n",
    "print (\"Test Accuracy = \" + str(preds[1]))"
   ]
  },
  {
   "cell_type": "code",
   "execution_count": 33,
   "metadata": {},
   "outputs": [],
   "source": [
    "predictions = model2.predict(testX)"
   ]
  },
  {
   "cell_type": "code",
   "execution_count": 34,
   "metadata": {
    "tags": []
   },
   "outputs": [
    {
     "output_type": "stream",
     "name": "stdout",
     "text": "[[1.5188805e-13 2.9186197e-13 1.2718685e-13 ... 1.0000000e+00\n  3.8355916e-12 8.2651969e-10]\n [2.7261662e-13 3.1574078e-08 1.0000000e+00 ... 7.1854518e-13\n  5.5631848e-16 2.3113854e-18]\n [2.1894200e-10 1.0000000e+00 9.1491615e-13 ... 9.0871790e-09\n  2.0683053e-09 5.0506257e-12]\n ...\n [5.1060467e-28 5.3437749e-18 2.9924255e-23 ... 8.8097703e-15\n  1.5792810e-16 6.4195428e-14]\n [7.8469202e-12 1.3211989e-19 2.9035569e-16 ... 1.4393017e-16\n  2.4898052e-08 1.1262410e-14]\n [4.6202482e-12 3.1473329e-14 3.6151362e-15 ... 2.0072403e-25\n  4.8433252e-13 2.3891729e-18]]\n"
    }
   ],
   "source": [
    "print(predictions)"
   ]
  },
  {
   "cell_type": "code",
   "execution_count": 38,
   "metadata": {
    "tags": []
   },
   "outputs": [
    {
     "output_type": "execute_result",
     "data": {
      "text/plain": "<tf.Tensor: shape=(10000,), dtype=int64, numpy=array([7, 2, 1, ..., 4, 5, 6])>"
     },
     "metadata": {},
     "execution_count": 38
    }
   ],
   "source": [
    "pred = tf.argmax(predictions, axis=1)\n",
    "pred"
   ]
  },
  {
   "cell_type": "code",
   "execution_count": 39,
   "metadata": {},
   "outputs": [
    {
     "output_type": "execute_result",
     "data": {
      "text/plain": "<tf.Tensor: shape=(10000,), dtype=int64, numpy=array([7, 2, 1, ..., 4, 5, 6])>"
     },
     "metadata": {},
     "execution_count": 39
    }
   ],
   "source": [
    "labels = tf.argmax(testY, axis=1)\n",
    "labels"
   ]
  },
  {
   "cell_type": "code",
   "execution_count": 40,
   "metadata": {
    "tags": []
   },
   "outputs": [
    {
     "output_type": "stream",
     "name": "stdout",
     "text": "tf.Tensor(\n[[ 974    1    1    0    0    0    2    2    0    0]\n [   0 1133    0    0    0    0    0    1    1    0]\n [   1    2 1025    0    0    0    0    3    1    0]\n [   0    0    0 1007    0    3    0    0    0    0]\n [   0    0    1    0  972    0    0    2    0    7]\n [   1    0    0    2    0  887    2    0    0    0]\n [   4    2    1    0    4    2  944    0    0    1]\n [   0    3    9    0    0    0    0 1012    1    3]\n [   1    0    3    2    0    2    0    1  961    4]\n [   0    1    1    1    8    1    0    7    1  989]], shape=(10, 10), dtype=int32)\n"
    }
   ],
   "source": [
    "confusionMatrix = tf.math.confusion_matrix(labels,pred,10)\n",
    "print(confusionMatrix)"
   ]
  },
  {
   "cell_type": "code",
   "execution_count": 41,
   "metadata": {},
   "outputs": [
    {
     "output_type": "execute_result",
     "data": {
      "text/plain": "(0.9903860850803005, 0.9903226903984319, 0.9904670367397521)"
     },
     "metadata": {},
     "execution_count": 41
    }
   ],
   "source": [
    "from sklearn.metrics import f1_score, recall_score, precision_score\n",
    "f1 = f1_score(labels, pred, average='macro')\n",
    "recall = recall_score(labels, pred, average='macro')\n",
    "precision = precision_score(labels, pred, average='macro')\n",
    "f1, recall, precision"
   ]
  },
  {
   "cell_type": "code",
   "execution_count": null,
   "metadata": {},
   "outputs": [],
   "source": []
  }
 ],
 "metadata": {
  "language_info": {
   "codemirror_mode": {
    "name": "ipython",
    "version": 3
   },
   "file_extension": ".py",
   "mimetype": "text/x-python",
   "name": "python",
   "nbconvert_exporter": "python",
   "pygments_lexer": "ipython3",
   "version": "3.8.2-final"
  },
  "orig_nbformat": 2,
  "kernelspec": {
   "name": "python38264bite501c4fae09f4db48cc9b7c67440df23",
   "display_name": "Python 3.8.2 64-bit"
  }
 },
 "nbformat": 4,
 "nbformat_minor": 2
}