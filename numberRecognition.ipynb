{
 "cells": [
  {
   "cell_type": "code",
   "execution_count": 82,
   "metadata": {},
   "outputs": [],
   "source": [
    "import os\n",
    "import numpy as np\n",
    "import pandas as pd\n",
    "import tensorflow as tf\n",
    "import matplotlib.pyplot as plt\n",
    "from tensorflow import keras\n",
    "from tensorflow.keras import layers"
   ]
  },
  {
   "cell_type": "code",
   "execution_count": 83,
   "metadata": {},
   "outputs": [],
   "source": [
    "trainImages = open(os.getcwd() + '/data/MINST/train-images.idx3-ubyte', 'rb')\n",
    "trainLabels = open(os.getcwd() + '/data/MINST/train-labels.idx1-ubyte', 'rb')\n",
    "testImages = open(os.getcwd() + '/data/MINST/t10k-images.idx3-ubyte', 'rb')\n",
    "testLabels = open(os.getcwd() + '/data/MINST/t10k-labels.idx1-ubyte', 'rb')"
   ]
  },
  {
   "cell_type": "code",
   "execution_count": 84,
   "metadata": {
    "tags": []
   },
   "outputs": [],
   "source": [
    "assert(int.from_bytes(trainImages.read(4), \"big\") == 2051)\n",
    "assert(int.from_bytes(trainLabels.read(4), 'big') == 2049)\n",
    "assert(int.from_bytes(testImages.read(4), 'big') == 2051)\n",
    "assert(int.from_bytes(testLabels.read(4), 'big') == 2049)"
   ]
  },
  {
   "cell_type": "code",
   "execution_count": 85,
   "metadata": {},
   "outputs": [],
   "source": [
    "trainImagesNum = int.from_bytes(trainImages.read(4), 'big')\n",
    "trainLabelsNum = int.from_bytes(trainLabels.read(4), 'big')\n",
    "testLabelsNum = int.from_bytes(testLabels.read(4), 'big')\n",
    "testImagesNum = int.from_bytes(testImages.read(4), 'big')"
   ]
  },
  {
   "cell_type": "code",
   "execution_count": 86,
   "metadata": {},
   "outputs": [],
   "source": [
    "assert(trainImagesNum == trainLabelsNum)\n",
    "assert(testImagesNum == testLabelsNum)"
   ]
  },
  {
   "cell_type": "code",
   "execution_count": 87,
   "metadata": {},
   "outputs": [],
   "source": [
    "trainRows = int.from_bytes(trainImages.read(4), 'big')\n",
    "trainCols = int.from_bytes(trainImages.read(4), 'big')\n",
    "testRows = int.from_bytes(testImages.read(4), 'big')\n",
    "testCols = int.from_bytes(testImages.read(4), 'big')"
   ]
  },
  {
   "cell_type": "code",
   "execution_count": 88,
   "metadata": {},
   "outputs": [],
   "source": [
    "trainPixels = trainCols * trainRows\n",
    "testPixels = testCols * testRows"
   ]
  },
  {
   "cell_type": "code",
   "execution_count": 89,
   "metadata": {},
   "outputs": [],
   "source": [
    "trainX = np.zeros((trainImagesNum, trainPixels))\n",
    "trainY = np.zeros(trainLabelsNum)\n",
    "testX = np.zeros((testImagesNum, testPixels))\n",
    "testY = np.zeros((testLabelsNum))"
   ]
  },
  {
   "cell_type": "code",
   "execution_count": 90,
   "metadata": {},
   "outputs": [],
   "source": [
    "for i in range(trainImagesNum):\n",
    "    for j in range(trainPixels):\n",
    "        trainX[i,j] = float(int.from_bytes(trainImages.read(1), 'big'))\n",
    "    trainY[i] = int.from_bytes(trainLabels.read(1), 'big')"
   ]
  },
  {
   "cell_type": "code",
   "execution_count": 91,
   "metadata": {},
   "outputs": [],
   "source": [
    "for i in range(testImagesNum):\n",
    "    for j in range(testPixels):\n",
    "        testX[i,j] = float(int.from_bytes(testImages.read(1), 'big'))\n",
    "    testY[i] = int.from_bytes(testLabels.read(1), 'big')"
   ]
  },
  {
   "cell_type": "code",
   "execution_count": 92,
   "metadata": {},
   "outputs": [],
   "source": [
    "trainX = trainX/255\n",
    "testX = testX/255"
   ]
  },
  {
   "cell_type": "code",
   "execution_count": 93,
   "metadata": {},
   "outputs": [],
   "source": [
    "trainX = tf.convert_to_tensor(trainX)\n",
    "trainY = tf.keras.utils.to_categorical(trainY, num_classes=10)\n",
    "testX = tf.convert_to_tensor(testX)\n",
    "testY = tf.keras.utils.to_categorical(testY, num_classes=10)"
   ]
  },
  {
   "cell_type": "code",
   "execution_count": 94,
   "metadata": {},
   "outputs": [],
   "source": [
    "def simpleModel(input_shape):\n",
    "    XInput = tf.keras.Input(shape=input_shape)\n",
    "    X = tf.keras.layers.Dense(200, activation='relu', name='fc0')(XInput)\n",
    "    X = tf.keras.layers.Dropout(0.2)(X)\n",
    "    X = tf.keras.layers.Dense(200, activation='relu', name='fc1')(X)\n",
    "    X = tf.keras.layers.Dropout(0.2)(X)\n",
    "    X = tf.keras.layers.Dense(10,activation='softmax', name ='out')(X)\n",
    "    model = tf.keras.Model(inputs=XInput, outputs = X, name = 'SimpleModel')\n",
    "    return model"
   ]
  },
  {
   "cell_type": "code",
   "execution_count": 95,
   "metadata": {},
   "outputs": [],
   "source": [
    "model = simpleModel(trainX.shape[1:])\n",
    "model.compile(optimizer='adam', loss='binary_crossentropy', metrics='accuracy')"
   ]
  },
  {
   "cell_type": "code",
   "execution_count": 96,
   "metadata": {
    "tags": []
   },
   "outputs": [
    {
     "output_type": "stream",
     "name": "stdout",
     "text": "Epoch 1/50\n600/600 [==============================] - 1s 2ms/step - loss: 0.0541 - accuracy: 0.9027\nEpoch 2/50\n600/600 [==============================] - 1s 2ms/step - loss: 0.0245 - accuracy: 0.9578\nEpoch 3/50\n600/600 [==============================] - 1s 2ms/step - loss: 0.0185 - accuracy: 0.9686\nEpoch 4/50\n600/600 [==============================] - 1s 2ms/step - loss: 0.0152 - accuracy: 0.9741\nEpoch 5/50\n600/600 [==============================] - 1s 2ms/step - loss: 0.0127 - accuracy: 0.9786\nEpoch 6/50\n600/600 [==============================] - 1s 2ms/step - loss: 0.0110 - accuracy: 0.9808\nEpoch 7/50\n600/600 [==============================] - 1s 2ms/step - loss: 0.0097 - accuracy: 0.9827\nEpoch 8/50\n600/600 [==============================] - 1s 2ms/step - loss: 0.0086 - accuracy: 0.9848\nEpoch 9/50\n600/600 [==============================] - 1s 2ms/step - loss: 0.0085 - accuracy: 0.9854\nEpoch 10/50\n600/600 [==============================] - 1s 2ms/step - loss: 0.0071 - accuracy: 0.9876\nEpoch 11/50\n600/600 [==============================] - 1s 2ms/step - loss: 0.0071 - accuracy: 0.9877\nEpoch 12/50\n600/600 [==============================] - 1s 2ms/step - loss: 0.0065 - accuracy: 0.9890\nEpoch 13/50\n600/600 [==============================] - 1s 2ms/step - loss: 0.0060 - accuracy: 0.9894\nEpoch 14/50\n600/600 [==============================] - 1s 2ms/step - loss: 0.0055 - accuracy: 0.9901\nEpoch 15/50\n600/600 [==============================] - 1s 2ms/step - loss: 0.0058 - accuracy: 0.9899\nEpoch 16/50\n600/600 [==============================] - 1s 2ms/step - loss: 0.0055 - accuracy: 0.9900\nEpoch 17/50\n600/600 [==============================] - 1s 2ms/step - loss: 0.0050 - accuracy: 0.9912\nEpoch 18/50\n600/600 [==============================] - 1s 2ms/step - loss: 0.0050 - accuracy: 0.9911\nEpoch 19/50\n600/600 [==============================] - 1s 2ms/step - loss: 0.0047 - accuracy: 0.9919\nEpoch 20/50\n600/600 [==============================] - 1s 2ms/step - loss: 0.0044 - accuracy: 0.9917\nEpoch 21/50\n600/600 [==============================] - 1s 2ms/step - loss: 0.0043 - accuracy: 0.9924\nEpoch 22/50\n600/600 [==============================] - 1s 2ms/step - loss: 0.0042 - accuracy: 0.9931\nEpoch 23/50\n600/600 [==============================] - 1s 2ms/step - loss: 0.0040 - accuracy: 0.9931\nEpoch 24/50\n600/600 [==============================] - 1s 2ms/step - loss: 0.0039 - accuracy: 0.9931\nEpoch 25/50\n600/600 [==============================] - 1s 2ms/step - loss: 0.0034 - accuracy: 0.9940\nEpoch 26/50\n600/600 [==============================] - 1s 2ms/step - loss: 0.0037 - accuracy: 0.9933\nEpoch 27/50\n600/600 [==============================] - 1s 2ms/step - loss: 0.0040 - accuracy: 0.9928\nEpoch 28/50\n600/600 [==============================] - 1s 2ms/step - loss: 0.0037 - accuracy: 0.9938\nEpoch 29/50\n600/600 [==============================] - 1s 2ms/step - loss: 0.0035 - accuracy: 0.9941\nEpoch 30/50\n600/600 [==============================] - 1s 2ms/step - loss: 0.0035 - accuracy: 0.9939\nEpoch 31/50\n600/600 [==============================] - 1s 2ms/step - loss: 0.0033 - accuracy: 0.9944\nEpoch 32/50\n600/600 [==============================] - 1s 2ms/step - loss: 0.0029 - accuracy: 0.9952\nEpoch 33/50\n600/600 [==============================] - 1s 2ms/step - loss: 0.0032 - accuracy: 0.9945\nEpoch 34/50\n600/600 [==============================] - 1s 2ms/step - loss: 0.0035 - accuracy: 0.9942\nEpoch 35/50\n600/600 [==============================] - 1s 2ms/step - loss: 0.0031 - accuracy: 0.9945\nEpoch 36/50\n600/600 [==============================] - 1s 2ms/step - loss: 0.0035 - accuracy: 0.9942\nEpoch 37/50\n600/600 [==============================] - 1s 2ms/step - loss: 0.0029 - accuracy: 0.9950\nEpoch 38/50\n600/600 [==============================] - 1s 2ms/step - loss: 0.0032 - accuracy: 0.9945\nEpoch 39/50\n600/600 [==============================] - 1s 2ms/step - loss: 0.0027 - accuracy: 0.9955\nEpoch 40/50\n600/600 [==============================] - 1s 2ms/step - loss: 0.0032 - accuracy: 0.9947\nEpoch 41/50\n600/600 [==============================] - 1s 2ms/step - loss: 0.0030 - accuracy: 0.9949\nEpoch 42/50\n600/600 [==============================] - 1s 2ms/step - loss: 0.0027 - accuracy: 0.9954\nEpoch 43/50\n600/600 [==============================] - 1s 2ms/step - loss: 0.0026 - accuracy: 0.9955\nEpoch 44/50\n600/600 [==============================] - 1s 2ms/step - loss: 0.0028 - accuracy: 0.9952\nEpoch 45/50\n600/600 [==============================] - 1s 2ms/step - loss: 0.0032 - accuracy: 0.9946\nEpoch 46/50\n600/600 [==============================] - 1s 2ms/step - loss: 0.0025 - accuracy: 0.9957\nEpoch 47/50\n600/600 [==============================] - 1s 2ms/step - loss: 0.0028 - accuracy: 0.9952\nEpoch 48/50\n600/600 [==============================] - 1s 2ms/step - loss: 0.0024 - accuracy: 0.9959\nEpoch 49/50\n600/600 [==============================] - 1s 2ms/step - loss: 0.0024 - accuracy: 0.9957\nEpoch 50/50\n600/600 [==============================] - 1s 2ms/step - loss: 0.0026 - accuracy: 0.9959\n"
    }
   ],
   "source": [
    "preds = model.fit(x=trainX, y=trainY, batch_size= 100, epochs=50, verbose=1, sample_weight=None)"
   ]
  },
  {
   "cell_type": "code",
   "execution_count": 97,
   "metadata": {
    "tags": []
   },
   "outputs": [
    {
     "output_type": "stream",
     "name": "stdout",
     "text": "100/100 [==============================] - 0s 1ms/step - loss: 0.0139 - accuracy: 0.9843\n\nLoss = 0.01391863264143467\nTest Accuracy = 0.9843000173568726\n"
    }
   ],
   "source": [
    "preds = model.evaluate(testX, testY, batch_size=100, verbose=1, sample_weight=None)\n",
    "print()\n",
    "print (\"Loss = \" + str(preds[0]))\n",
    "print (\"Test Accuracy = \" + str(preds[1]))"
   ]
  },
  {
   "cell_type": "code",
   "execution_count": 98,
   "metadata": {},
   "outputs": [],
   "source": [
    "def convModel(input_shape):\n",
    "    XIn = tf.keras.Input(shape=input_shape)\n",
    "    X = tf.keras.layers.Convolution2D(5, 3, data_format='channels_last',input_shape=input_shape, padding='same', activation='relu')(XIn)\n",
    "    X = tf.keras.layers.MaxPool2D(pool_size=(2,2), strides=2)(X)\n",
    "    Y = tf.keras.layers.BatchNormalization()(X)\n",
    "    X = tf.keras.layers.Convolution2D(10, 3, padding='valid', activation='relu')(Y)\n",
    "    X = tf.keras.layers.MaxPool2D(pool_size=(2,2), strides=2)(X)\n",
    "    X = tf.keras.layers.BatchNormalization()(X)\n",
    "    Y = tf.keras.layers.Convolution2D(10, 2)(Y)\n",
    "    Y = tf.keras.layers.MaxPool2D(pool_size=(2,2))(Y)\n",
    "    X = tf.keras.layers.Flatten()(X)\n",
    "    X = tf.keras.layers.Dropout(0.2)(X)\n",
    "    X = tf.keras.layers.Dense(100, activation='relu')(X)\n",
    "    X = tf.keras.layers.Dense(10, activation='softmax')(X)\n",
    "    model = tf.keras.Model(inputs=XIn, outputs=X)\n",
    "    return model"
   ]
  },
  {
   "cell_type": "code",
   "execution_count": 99,
   "metadata": {},
   "outputs": [],
   "source": [
    "trainX = tf.reshape(trainX, shape=(trainX.shape[0], 28,28,1))\n",
    "testX = tf.reshape(testX, shape=(testX.shape[0], 28,28,1))"
   ]
  },
  {
   "cell_type": "code",
   "execution_count": 100,
   "metadata": {
    "tags": []
   },
   "outputs": [],
   "source": [
    "model2 = convModel(trainX.shape[1:])\n",
    "model2.compile(optimizer='adam', loss='categorical_crossentropy', metrics='accuracy')"
   ]
  },
  {
   "cell_type": "code",
   "execution_count": 101,
   "metadata": {
    "tags": []
   },
   "outputs": [
    {
     "output_type": "stream",
     "name": "stdout",
     "text": "Epoch 1/50\n600/600 [==============================] - 2s 3ms/step - loss: 0.2584 - accuracy: 0.9189\nEpoch 2/50\n600/600 [==============================] - 2s 3ms/step - loss: 0.0904 - accuracy: 0.9711\nEpoch 3/50\n600/600 [==============================] - 2s 3ms/step - loss: 0.0681 - accuracy: 0.9780\nEpoch 4/50\n600/600 [==============================] - 2s 3ms/step - loss: 0.0558 - accuracy: 0.9826\nEpoch 5/50\n600/600 [==============================] - 2s 3ms/step - loss: 0.0451 - accuracy: 0.9856\nEpoch 6/50\n600/600 [==============================] - 2s 3ms/step - loss: 0.0415 - accuracy: 0.9866\nEpoch 7/50\n600/600 [==============================] - 2s 3ms/step - loss: 0.0362 - accuracy: 0.9879\nEpoch 8/50\n600/600 [==============================] - 2s 3ms/step - loss: 0.0326 - accuracy: 0.9892\nEpoch 9/50\n600/600 [==============================] - 2s 3ms/step - loss: 0.0312 - accuracy: 0.9894\nEpoch 10/50\n600/600 [==============================] - 2s 3ms/step - loss: 0.0266 - accuracy: 0.9914\nEpoch 11/50\n600/600 [==============================] - 2s 3ms/step - loss: 0.0256 - accuracy: 0.9912\nEpoch 12/50\n600/600 [==============================] - 2s 3ms/step - loss: 0.0243 - accuracy: 0.9916\nEpoch 13/50\n600/600 [==============================] - 2s 3ms/step - loss: 0.0213 - accuracy: 0.9929\nEpoch 14/50\n600/600 [==============================] - 2s 3ms/step - loss: 0.0203 - accuracy: 0.9932\nEpoch 15/50\n600/600 [==============================] - 2s 3ms/step - loss: 0.0192 - accuracy: 0.9935\nEpoch 16/50\n600/600 [==============================] - 2s 3ms/step - loss: 0.0196 - accuracy: 0.9934\nEpoch 17/50\n600/600 [==============================] - 2s 3ms/step - loss: 0.0170 - accuracy: 0.9943\nEpoch 18/50\n600/600 [==============================] - 2s 3ms/step - loss: 0.0180 - accuracy: 0.9936\nEpoch 19/50\n600/600 [==============================] - 2s 3ms/step - loss: 0.0151 - accuracy: 0.9948\nEpoch 20/50\n600/600 [==============================] - 2s 3ms/step - loss: 0.0142 - accuracy: 0.9949\nEpoch 21/50\n600/600 [==============================] - 2s 3ms/step - loss: 0.0151 - accuracy: 0.9947\nEpoch 22/50\n600/600 [==============================] - 2s 3ms/step - loss: 0.0143 - accuracy: 0.9952\nEpoch 23/50\n600/600 [==============================] - 2s 3ms/step - loss: 0.0146 - accuracy: 0.9948\nEpoch 24/50\n600/600 [==============================] - 2s 3ms/step - loss: 0.0130 - accuracy: 0.9957\nEpoch 25/50\n600/600 [==============================] - 2s 3ms/step - loss: 0.0123 - accuracy: 0.9955\nEpoch 26/50\n600/600 [==============================] - 2s 3ms/step - loss: 0.0133 - accuracy: 0.9950\nEpoch 27/50\n600/600 [==============================] - 2s 3ms/step - loss: 0.0120 - accuracy: 0.9958\nEpoch 28/50\n600/600 [==============================] - 2s 3ms/step - loss: 0.0120 - accuracy: 0.9958\nEpoch 29/50\n600/600 [==============================] - 2s 3ms/step - loss: 0.0109 - accuracy: 0.9963\nEpoch 30/50\n600/600 [==============================] - 2s 3ms/step - loss: 0.0127 - accuracy: 0.9955\nEpoch 31/50\n600/600 [==============================] - 2s 3ms/step - loss: 0.0100 - accuracy: 0.9966\nEpoch 32/50\n600/600 [==============================] - 2s 3ms/step - loss: 0.0109 - accuracy: 0.9962\nEpoch 33/50\n600/600 [==============================] - 2s 3ms/step - loss: 0.0119 - accuracy: 0.9961\nEpoch 34/50\n600/600 [==============================] - 2s 3ms/step - loss: 0.0097 - accuracy: 0.9966\nEpoch 35/50\n600/600 [==============================] - 2s 3ms/step - loss: 0.0103 - accuracy: 0.9964\nEpoch 36/50\n600/600 [==============================] - 2s 3ms/step - loss: 0.0094 - accuracy: 0.9966\nEpoch 37/50\n600/600 [==============================] - 2s 3ms/step - loss: 0.0088 - accuracy: 0.9970\nEpoch 38/50\n600/600 [==============================] - 2s 3ms/step - loss: 0.0094 - accuracy: 0.9966\nEpoch 39/50\n600/600 [==============================] - 2s 3ms/step - loss: 0.0102 - accuracy: 0.9964\nEpoch 40/50\n600/600 [==============================] - 2s 3ms/step - loss: 0.0102 - accuracy: 0.9963\nEpoch 41/50\n600/600 [==============================] - 2s 3ms/step - loss: 0.0085 - accuracy: 0.9970\nEpoch 42/50\n600/600 [==============================] - 2s 3ms/step - loss: 0.0090 - accuracy: 0.9969\nEpoch 43/50\n600/600 [==============================] - 2s 3ms/step - loss: 0.0090 - accuracy: 0.9970\nEpoch 44/50\n600/600 [==============================] - 2s 3ms/step - loss: 0.0086 - accuracy: 0.9972\nEpoch 45/50\n600/600 [==============================] - 2s 3ms/step - loss: 0.0090 - accuracy: 0.9969\nEpoch 46/50\n600/600 [==============================] - 2s 3ms/step - loss: 0.0072 - accuracy: 0.9976\nEpoch 47/50\n600/600 [==============================] - 2s 3ms/step - loss: 0.0101 - accuracy: 0.9968\nEpoch 48/50\n600/600 [==============================] - 2s 3ms/step - loss: 0.0075 - accuracy: 0.9973\nEpoch 49/50\n600/600 [==============================] - 2s 3ms/step - loss: 0.0090 - accuracy: 0.9972\nEpoch 50/50\n600/600 [==============================] - 2s 3ms/step - loss: 0.0083 - accuracy: 0.9974\n"
    },
    {
     "output_type": "execute_result",
     "data": {
      "text/plain": "<tensorflow.python.keras.callbacks.History at 0x7f0ac47d4b50>"
     },
     "metadata": {},
     "execution_count": 101
    }
   ],
   "source": [
    "model2.fit(x=trainX, y=trainY, batch_size= 100, epochs=50, verbose=1, sample_weight=None)"
   ]
  },
  {
   "cell_type": "code",
   "execution_count": 102,
   "metadata": {
    "tags": []
   },
   "outputs": [
    {
     "output_type": "stream",
     "name": "stdout",
     "text": "100/100 [==============================] - 0s 2ms/step - loss: 0.0459 - accuracy: 0.9901\n\nLoss = 0.04587492346763611\nTest Accuracy = 0.9901000261306763\n"
    }
   ],
   "source": [
    "preds = model2.evaluate(testX, testY, batch_size=100, verbose=1, sample_weight=None)\n",
    "print()\n",
    "print (\"Loss = \" + str(preds[0]))\n",
    "print (\"Test Accuracy = \" + str(preds[1]))"
   ]
  },
  {
   "cell_type": "code",
   "execution_count": null,
   "metadata": {},
   "outputs": [],
   "source": []
  }
 ],
 "metadata": {
  "language_info": {
   "codemirror_mode": {
    "name": "ipython",
    "version": 3
   },
   "file_extension": ".py",
   "mimetype": "text/x-python",
   "name": "python",
   "nbconvert_exporter": "python",
   "pygments_lexer": "ipython3",
   "version": "3.8.2-final"
  },
  "orig_nbformat": 2,
  "kernelspec": {
   "name": "python38264bite501c4fae09f4db48cc9b7c67440df23",
   "display_name": "Python 3.8.2 64-bit"
  }
 },
 "nbformat": 4,
 "nbformat_minor": 2
}